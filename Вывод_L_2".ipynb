{
  "nbformat": 4,
  "nbformat_minor": 0,
  "metadata": {
    "colab": {
      "provenance": [],
      "authorship_tag": "ABX9TyOq390x8hjHOzxhMTRsmAq0",
      "include_colab_link": true
    },
    "kernelspec": {
      "name": "python3",
      "display_name": "Python 3"
    },
    "language_info": {
      "name": "python"
    }
  },
  "cells": [
    {
      "cell_type": "markdown",
      "metadata": {
        "id": "view-in-github",
        "colab_type": "text"
      },
      "source": [
        "<a href=\"https://colab.research.google.com/github/AnisimovaPV/Machine-learning/blob/main/%D0%92%D1%8B%D0%B2%D0%BE%D0%B4_L_2%22.ipynb\" target=\"_parent\"><img src=\"https://colab.research.google.com/assets/colab-badge.svg\" alt=\"Open In Colab\"/></a>"
      ]
    },
    {
      "cell_type": "markdown",
      "metadata": {
        "id": "gJAebc0yC13k"
      },
      "source": [
        "# **Вывод**"
      ]
    },
    {
      "cell_type": "markdown",
      "source": [
        "Данная задача достаточно сносно классифицируется с текущим набором параметров и с выбранными классами классификации. Также ,возможно, при переборе гипер_параметров можно подобрать более оптимальный вариант. В целом, если увеличить тренировочную и контрольную выборку, то результат только улучшится."
      ],
      "metadata": {
        "id": "ecJgiDkkyZLc"
      }
    }
  ]
}